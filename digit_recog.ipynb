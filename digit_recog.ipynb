{
  "cells": [
    {
      "cell_type": "markdown",
      "source": [
        "## Digit OCR based on MNIST Dataset\n",
        "Using Neural Network model."
      ],
      "metadata": {
        "id": "itm6WM-1W5p-"
      },
      "id": "itm6WM-1W5p-"
    },
    {
      "cell_type": "code",
      "execution_count": 1,
      "id": "80ff1739",
      "metadata": {
        "id": "80ff1739"
      },
      "outputs": [],
      "source": [
        "import tensorflow as tf\n",
        "from tensorflow import keras\n",
        "import matplotlib.pyplot as plt\n",
        "%matplotlib inline\n",
        "import numpy as np\n",
        "import seaborn as sns"
      ]
    },
    {
      "cell_type": "code",
      "source": [
        "#Loading mnist dataset\n",
        "(X_train, y_train) , (X_test, y_test) = keras.datasets.mnist.load_data()"
      ],
      "metadata": {
        "colab": {
          "base_uri": "https://localhost:8080/"
        },
        "id": "3qBGnRBj4YqX",
        "outputId": "82558b18-39ee-4fbf-ce35-e4c61114b1dc"
      },
      "id": "3qBGnRBj4YqX",
      "execution_count": 2,
      "outputs": [
        {
          "output_type": "stream",
          "name": "stdout",
          "text": [
            "Downloading data from https://storage.googleapis.com/tensorflow/tf-keras-datasets/mnist.npz\n",
            "11493376/11490434 [==============================] - 0s 0us/step\n",
            "11501568/11490434 [==============================] - 0s 0us/step\n"
          ]
        }
      ]
    },
    {
      "cell_type": "code",
      "source": [
        "len(X_train)"
      ],
      "metadata": {
        "colab": {
          "base_uri": "https://localhost:8080/"
        },
        "id": "cPrG6Twb4kjX",
        "outputId": "91aeb52b-a843-4d13-a940-416e76edf584"
      },
      "id": "cPrG6Twb4kjX",
      "execution_count": 3,
      "outputs": [
        {
          "output_type": "execute_result",
          "data": {
            "text/plain": [
              "60000"
            ]
          },
          "metadata": {},
          "execution_count": 3
        }
      ]
    },
    {
      "cell_type": "code",
      "source": [
        "plt.matshow(X_train[0])\n",
        "y_train[0]"
      ],
      "metadata": {
        "colab": {
          "base_uri": "https://localhost:8080/",
          "height": 293
        },
        "id": "h0C-uV4d40uS",
        "outputId": "2027b9a3-1043-477c-ea03-4d688a7048e6"
      },
      "id": "h0C-uV4d40uS",
      "execution_count": 4,
      "outputs": [
        {
          "output_type": "execute_result",
          "data": {
            "text/plain": [
              "5"
            ]
          },
          "metadata": {},
          "execution_count": 4
        },
        {
          "output_type": "display_data",
          "data": {
            "image/png": "[encoded data removed]",
            "text/plain": [
              "<Figure size 288x288 with 1 Axes>"
            ]
          },
          "metadata": {
            "needs_background": "light"
          }
        }
      ]
    },
    {
      "cell_type": "code",
      "source": [
        "X_train.shape"
      ],
      "metadata": {
        "colab": {
          "base_uri": "https://localhost:8080/"
        },
        "id": "Fk0zBp0_5CzJ",
        "outputId": "572c07bc-5d1d-4a41-8493-d6dbfefd41ea"
      },
      "id": "Fk0zBp0_5CzJ",
      "execution_count": 5,
      "outputs": [
        {
          "output_type": "execute_result",
          "data": {
            "text/plain": [
              "(60000, 28, 28)"
            ]
          },
          "metadata": {},
          "execution_count": 5
        }
      ]
    },
    {
      "cell_type": "code",
      "source": [
        "#Normalization\n",
        "X_train = X_train / 255\n",
        "X_test = X_test / 255"
      ],
      "metadata": {
        "id": "CrY7vQGC8xdR"
      },
      "id": "CrY7vQGC8xdR",
      "execution_count": 6,
      "outputs": []
    },
    {
      "cell_type": "code",
      "source": [
        "#Developing the Model\n",
        "from tensorflow.keras import regularizers\n",
        "model = tf.keras.Sequential([\n",
        "                             \n",
        "                  keras.layers.Flatten(input_shape=(28,28)),\n",
        "                  keras.layers.Dense(300, activation = \"relu\"),\n",
        "                  tf.keras.layers.Dropout(0.25),\n",
        "                  keras.layers.Dense(60, activation = \"relu\"),\n",
        "                  tf.keras.layers.Dropout(0.25),\n",
        "                  keras.layers.Dense(10, activation = \"sigmoid\")\n",
        "])\n",
        "model.compile(\n",
        "    optimizer = 'SGD', \n",
        "    loss = 'sparse_categorical_crossentropy',\n",
        "    metrics = 'accuracy'\n",
        "    )\n",
        "model.summary()"
      ],
      "metadata": {
        "colab": {
          "base_uri": "https://localhost:8080/"
        },
        "id": "GEYah8I7583s",
        "outputId": "40a3ffbb-51a5-4eb0-c68d-11f7f9950adb"
      },
      "id": "GEYah8I7583s",
      "execution_count": 10,
      "outputs": [
        {
          "output_type": "stream",
          "name": "stdout",
          "text": [
            "Model: \"sequential_1\"\n",
            "_________________________________________________________________\n",
            " Layer (type)                Output Shape              Param #   \n",
            "=================================================================\n",
            " flatten_1 (Flatten)         (None, 784)               0         \n",
            "                                                                 \n",
            " dense_3 (Dense)             (None, 300)               235500    \n",
            "                                                                 \n",
            " dropout_2 (Dropout)         (None, 300)               0         \n",
            "                                                                 \n",
            " dense_4 (Dense)             (None, 60)                18060     \n",
            "                                                                 \n",
            " dropout_3 (Dropout)         (None, 60)                0         \n",
            "                                                                 \n",
            " dense_5 (Dense)             (None, 10)                610       \n",
            "                                                                 \n",
            "=================================================================\n",
            "Total params: 254,170\n",
            "Trainable params: 254,170\n",
            "Non-trainable params: 0\n",
            "_________________________________________________________________\n"
          ]
        }
      ]
    },
    {
      "cell_type": "code",
      "source": [
        "history = model.fit(X_train, y_train, epochs=15, validation_split=0.1)"
      ],
      "metadata": {
        "colab": {
          "base_uri": "https://localhost:8080/"
        },
        "id": "SaeEe_pZmNXF",
        "outputId": "796b3dd2-94e5-4611-da8e-d583da5b0d03"
      },
      "id": "SaeEe_pZmNXF",
      "execution_count": 15,
      "outputs": [
        {
          "output_type": "stream",
          "name": "stdout",
          "text": [
            "Epoch 1/15\n",
            "1688/1688 [==============================] - 6s 3ms/step - loss: 0.8312 - accuracy: 0.7506 - val_loss: 0.2942 - val_accuracy: 0.9202\n",
            "Epoch 2/15\n",
            "1688/1688 [==============================] - 5s 3ms/step - loss: 0.4142 - accuracy: 0.8784 - val_loss: 0.2131 - val_accuracy: 0.9425\n",
            "Epoch 3/15\n",
            "1688/1688 [==============================] - 6s 3ms/step - loss: 0.3343 - accuracy: 0.9015 - val_loss: 0.1790 - val_accuracy: 0.9505\n",
            "Epoch 4/15\n",
            "1688/1688 [==============================] - 5s 3ms/step - loss: 0.2876 - accuracy: 0.9177 - val_loss: 0.1539 - val_accuracy: 0.9573\n",
            "Epoch 5/15\n",
            "1688/1688 [==============================] - 6s 3ms/step - loss: 0.2521 - accuracy: 0.9269 - val_loss: 0.1361 - val_accuracy: 0.9630\n",
            "Epoch 6/15\n",
            "1688/1688 [==============================] - 5s 3ms/step - loss: 0.2251 - accuracy: 0.9341 - val_loss: 0.1230 - val_accuracy: 0.9670\n",
            "Epoch 7/15\n",
            "1688/1688 [==============================] - 6s 3ms/step - loss: 0.2074 - accuracy: 0.9396 - val_loss: 0.1144 - val_accuracy: 0.9680\n",
            "Epoch 8/15\n",
            "1688/1688 [==============================] - 6s 3ms/step - loss: 0.1911 - accuracy: 0.9440 - val_loss: 0.1065 - val_accuracy: 0.9693\n",
            "Epoch 9/15\n",
            "1688/1688 [==============================] - 5s 3ms/step - loss: 0.1767 - accuracy: 0.9480 - val_loss: 0.0993 - val_accuracy: 0.9718\n",
            "Epoch 10/15\n",
            "1688/1688 [==============================] - 6s 3ms/step - loss: 0.1670 - accuracy: 0.9504 - val_loss: 0.0944 - val_accuracy: 0.9723\n",
            "Epoch 11/15\n",
            "1688/1688 [==============================] - 6s 3ms/step - loss: 0.1548 - accuracy: 0.9548 - val_loss: 0.0927 - val_accuracy: 0.9715\n",
            "Epoch 12/15\n",
            "1688/1688 [==============================] - 6s 3ms/step - loss: 0.1448 - accuracy: 0.9584 - val_loss: 0.0878 - val_accuracy: 0.9747\n",
            "Epoch 13/15\n",
            "1688/1688 [==============================] - 5s 3ms/step - loss: 0.1423 - accuracy: 0.9586 - val_loss: 0.0840 - val_accuracy: 0.9743\n",
            "Epoch 14/15\n",
            "1688/1688 [==============================] - 6s 3ms/step - loss: 0.1324 - accuracy: 0.9610 - val_loss: 0.0808 - val_accuracy: 0.9750\n",
            "Epoch 15/15\n",
            "1688/1688 [==============================] - 6s 3ms/step - loss: 0.1259 - accuracy: 0.9621 - val_loss: 0.0797 - val_accuracy: 0.9760\n"
          ]
        }
      ]
    },
    {
      "cell_type": "code",
      "source": [
        "plt.title('Learning Curves')\n",
        "plt.xlabel('Epoch')\n",
        "plt.ylabel('Cross Entropy')\n",
        "plt.plot(history.history['accuracy'], label='train')\n",
        "plt.plot(history.history['val_accuracy'], label='val')\n",
        "plt.legend()\n",
        "plt.show()"
      ],
      "metadata": {
        "colab": {
          "base_uri": "https://localhost:8080/",
          "height": 295
        },
        "id": "Co2wPcTfE_8v",
        "outputId": "33f909c8-136e-4fc0-9601-397156a81735"
      },
      "id": "Co2wPcTfE_8v",
      "execution_count": 16,
      "outputs": [
        {
          "output_type": "display_data",
          "data": {
            "image/png": "[encoded data removed]",
            "text/plain": [
              "<Figure size 432x288 with 1 Axes>"
            ]
          },
          "metadata": {
            "needs_background": "light"
          }
        }
      ]
    },
    {
      "cell_type": "code",
      "source": [
        "model.evaluate(X_test, y_test)"
      ],
      "metadata": {
        "colab": {
          "base_uri": "https://localhost:8080/"
        },
        "id": "D93H2Nvt685G",
        "outputId": "ebd9808d-ca63-4125-d3b1-c8a24b7692ad"
      },
      "id": "D93H2Nvt685G",
      "execution_count": 17,
      "outputs": [
        {
          "output_type": "stream",
          "name": "stdout",
          "text": [
            "313/313 [==============================] - 1s 2ms/step - loss: 0.0902 - accuracy: 0.9724\n"
          ]
        },
        {
          "output_type": "execute_result",
          "data": {
            "text/plain": [
              "[0.09022338688373566, 0.9724000096321106]"
            ]
          },
          "metadata": {},
          "execution_count": 17
        }
      ]
    },
    {
      "cell_type": "code",
      "source": [
        "y_predicted = model.predict(X_test)\n",
        "y_predicted_labels = [np.argmax(i) for i in y_predicted]"
      ],
      "metadata": {
        "id": "PgDMGF0S9r8D"
      },
      "id": "PgDMGF0S9r8D",
      "execution_count": 18,
      "outputs": []
    },
    {
      "cell_type": "code",
      "source": [
        "conf_matrix = tf.math.confusion_matrix(labels=y_test,predictions=y_predicted_labels)\n",
        "\n",
        "plt.figure(figsize = (10,8))\n",
        "sns.heatmap(conf_matrix, annot=True, fmt='d')\n",
        "plt.xlabel('Predcited')\n",
        "plt.ylabel('Truths')"
      ],
      "metadata": {
        "colab": {
          "base_uri": "https://localhost:8080/",
          "height": 515
        },
        "id": "uZEf7ViX9KBU",
        "outputId": "6f36de70-0762-4ca2-adfa-48ef8f175547"
      },
      "id": "uZEf7ViX9KBU",
      "execution_count": 19,
      "outputs": [
        {
          "output_type": "execute_result",
          "data": {
            "text/plain": [
              "Text(69.0, 0.5, 'Truths')"
            ]
          },
          "metadata": {},
          "execution_count": 19
        },
        {
          "output_type": "display_data",
          "data": {
            "image/png": "[encoded data removed]",
            "text/plain": [
              "<Figure size 720x576 with 2 Axes>"
            ]
          },
          "metadata": {
            "needs_background": "light"
          }
        }
      ]
    },
    {
      "cell_type": "markdown",
      "source": [
        "-------------End------------------"
      ],
      "metadata": {
        "id": "P5A34obBDTMq"
      },
      "id": "P5A34obBDTMq"
    }
  ],
  "metadata": {
    "kernelspec": {
      "display_name": "Python 3 (ipykernel)",
      "language": "python",
      "name": "python3"
    },
    "language_info": {
      "codemirror_mode": {
        "name": "ipython",
        "version": 3
      },
      "file_extension": ".py",
      "mimetype": "text/x-python",
      "name": "python",
      "nbconvert_exporter": "python",
      "pygments_lexer": "ipython3",
      "version": "3.9.7"
    },
    "colab": {
      "name": "digit-recog.ipynb",
      "provenance": [],
      "collapsed_sections": []
    }
  },
  "nbformat": 4,
  "nbformat_minor": 5
}